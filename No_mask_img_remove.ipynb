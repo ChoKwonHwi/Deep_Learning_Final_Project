{
 "cells": [
  {
   "cell_type": "code",
   "execution_count": null,
   "id": "cff5ee51",
   "metadata": {},
   "outputs": [],
   "source": [
    "from PIL import Image\n",
    "import shutil"
   ]
  },
  {
   "cell_type": "code",
   "execution_count": null,
   "id": "d330bade",
   "metadata": {},
   "outputs": [],
   "source": [
    "imgs_dir='./BraTs'\n",
    "all_dirs = glob (f'{imgs_dir}/*')\n",
    "len (all_dirs)\n",
    "all_dirs.sort()\n",
    "len(all_dirs), all_dirs[:10]"
   ]
  },
  {
   "cell_type": "code",
   "execution_count": null,
   "id": "c764e44e",
   "metadata": {},
   "outputs": [],
   "source": [
    "li = []\n",
    "imgs_dir='./BraTs'\n",
    "all_dirs = glob (f'{imgs_dir}/*')\n",
    "all_dirs.sort()\n",
    "\n",
    "for folder in tqdm (all_dirs):\n",
    "    file = os.path.join(folder, 'seg.jpg')\n",
    "    img = Image.open(file)\n",
    "    x = np.array(img)\n",
    "    if x.max() == 0 :\n",
    "        li.append(folder)\n",
    "        \n",
    "for no_mask_folder_path in li :\n",
    "    shutil.rmtree(no_mask_folder_path)      \n",
    "    \n",
    "imgs_dir='./BraTs'\n",
    "all_dirs = glob (f'{imgs_dir}/*')\n",
    "all_dirs.sort()\n",
    "len(all_dirs) "
   ]
  }
 ],
 "metadata": {
  "kernelspec": {
   "display_name": "Python 3 (ipykernel)",
   "language": "python",
   "name": "python3"
  },
  "language_info": {
   "codemirror_mode": {
    "name": "ipython",
    "version": 3
   },
   "file_extension": ".py",
   "mimetype": "text/x-python",
   "name": "python",
   "nbconvert_exporter": "python",
   "pygments_lexer": "ipython3",
   "version": "3.9.15"
  }
 },
 "nbformat": 4,
 "nbformat_minor": 5
}
